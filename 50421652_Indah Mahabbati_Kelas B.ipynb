{
 "cells": [
  {
   "cell_type": "code",
   "execution_count": 1,
   "id": "d81ad484-a362-4b07-b7ab-31e5e7249ba0",
   "metadata": {},
   "outputs": [],
   "source": [
    "#Import Library\n",
    "import pandas as pd"
   ]
  },
  {
   "cell_type": "code",
   "execution_count": 2,
   "id": "1b9a619d-4902-4d56-bf0e-05c730360e8e",
   "metadata": {},
   "outputs": [],
   "source": [
    "#Data preparation\n",
    "df = pd.read_csv(\"Drug.csv\")"
   ]
  },
  {
   "cell_type": "code",
   "execution_count": 4,
   "id": "832f737b-ca87-4799-ae60-3b26ff0880c8",
   "metadata": {},
   "outputs": [
    {
     "data": {
      "text/plain": [
       "(200, 7)"
      ]
     },
     "execution_count": 4,
     "metadata": {},
     "output_type": "execute_result"
    }
   ],
   "source": [
    "#Cek dimensi data\n",
    "df.shape"
   ]
  },
  {
   "cell_type": "code",
   "execution_count": 5,
   "id": "d2b63bd9-88d4-4fde-b0e7-33bd3f30dff5",
   "metadata": {},
   "outputs": [
    {
     "data": {
      "text/html": [
       "<div>\n",
       "<style scoped>\n",
       "    .dataframe tbody tr th:only-of-type {\n",
       "        vertical-align: middle;\n",
       "    }\n",
       "\n",
       "    .dataframe tbody tr th {\n",
       "        vertical-align: top;\n",
       "    }\n",
       "\n",
       "    .dataframe thead th {\n",
       "        text-align: right;\n",
       "    }\n",
       "</style>\n",
       "<table border=\"1\" class=\"dataframe\">\n",
       "  <thead>\n",
       "    <tr style=\"text-align: right;\">\n",
       "      <th></th>\n",
       "      <th>Age</th>\n",
       "      <th>Sex</th>\n",
       "      <th>BP</th>\n",
       "      <th>Cholesterol</th>\n",
       "      <th>Na</th>\n",
       "      <th>K</th>\n",
       "      <th>Drug</th>\n",
       "    </tr>\n",
       "  </thead>\n",
       "  <tbody>\n",
       "    <tr>\n",
       "      <th>0</th>\n",
       "      <td>23</td>\n",
       "      <td>F</td>\n",
       "      <td>HIGH</td>\n",
       "      <td>HIGH</td>\n",
       "      <td>0.792535</td>\n",
       "      <td>0.031258</td>\n",
       "      <td>drugY</td>\n",
       "    </tr>\n",
       "    <tr>\n",
       "      <th>1</th>\n",
       "      <td>47</td>\n",
       "      <td>M</td>\n",
       "      <td>LOW</td>\n",
       "      <td>HIGH</td>\n",
       "      <td>0.739309</td>\n",
       "      <td>0.056468</td>\n",
       "      <td>drugC</td>\n",
       "    </tr>\n",
       "    <tr>\n",
       "      <th>2</th>\n",
       "      <td>47</td>\n",
       "      <td>M</td>\n",
       "      <td>LOW</td>\n",
       "      <td>HIGH</td>\n",
       "      <td>0.697269</td>\n",
       "      <td>0.068944</td>\n",
       "      <td>drugC</td>\n",
       "    </tr>\n",
       "    <tr>\n",
       "      <th>3</th>\n",
       "      <td>28</td>\n",
       "      <td>F</td>\n",
       "      <td>NORMAL</td>\n",
       "      <td>HIGH</td>\n",
       "      <td>0.563682</td>\n",
       "      <td>0.072289</td>\n",
       "      <td>drugX</td>\n",
       "    </tr>\n",
       "    <tr>\n",
       "      <th>4</th>\n",
       "      <td>61</td>\n",
       "      <td>F</td>\n",
       "      <td>LOW</td>\n",
       "      <td>HIGH</td>\n",
       "      <td>0.559294</td>\n",
       "      <td>0.030998</td>\n",
       "      <td>drugY</td>\n",
       "    </tr>\n",
       "  </tbody>\n",
       "</table>\n",
       "</div>"
      ],
      "text/plain": [
       "   Age Sex      BP Cholesterol        Na         K   Drug\n",
       "0   23   F    HIGH        HIGH  0.792535  0.031258  drugY\n",
       "1   47   M     LOW        HIGH  0.739309  0.056468  drugC\n",
       "2   47   M     LOW        HIGH  0.697269  0.068944  drugC\n",
       "3   28   F  NORMAL        HIGH  0.563682  0.072289  drugX\n",
       "4   61   F     LOW        HIGH  0.559294  0.030998  drugY"
      ]
     },
     "execution_count": 5,
     "metadata": {},
     "output_type": "execute_result"
    }
   ],
   "source": [
    "#Menampilkan 5 data teratas\n",
    "df.head(5)"
   ]
  },
  {
   "cell_type": "code",
   "execution_count": 6,
   "id": "f40ee0f4-5689-4bdc-9c8d-ebbb00491450",
   "metadata": {},
   "outputs": [
    {
     "data": {
      "text/html": [
       "<div>\n",
       "<style scoped>\n",
       "    .dataframe tbody tr th:only-of-type {\n",
       "        vertical-align: middle;\n",
       "    }\n",
       "\n",
       "    .dataframe tbody tr th {\n",
       "        vertical-align: top;\n",
       "    }\n",
       "\n",
       "    .dataframe thead th {\n",
       "        text-align: right;\n",
       "    }\n",
       "</style>\n",
       "<table border=\"1\" class=\"dataframe\">\n",
       "  <thead>\n",
       "    <tr style=\"text-align: right;\">\n",
       "      <th></th>\n",
       "      <th>Age</th>\n",
       "      <th>Sex</th>\n",
       "      <th>BP</th>\n",
       "      <th>Cholesterol</th>\n",
       "      <th>Na</th>\n",
       "      <th>K</th>\n",
       "      <th>Drug</th>\n",
       "    </tr>\n",
       "  </thead>\n",
       "  <tbody>\n",
       "    <tr>\n",
       "      <th>195</th>\n",
       "      <td>56</td>\n",
       "      <td>F</td>\n",
       "      <td>LOW</td>\n",
       "      <td>HIGH</td>\n",
       "      <td>0.848774</td>\n",
       "      <td>0.073380</td>\n",
       "      <td>drugC</td>\n",
       "    </tr>\n",
       "    <tr>\n",
       "      <th>196</th>\n",
       "      <td>16</td>\n",
       "      <td>M</td>\n",
       "      <td>LOW</td>\n",
       "      <td>HIGH</td>\n",
       "      <td>0.743021</td>\n",
       "      <td>0.061886</td>\n",
       "      <td>drugC</td>\n",
       "    </tr>\n",
       "    <tr>\n",
       "      <th>197</th>\n",
       "      <td>52</td>\n",
       "      <td>M</td>\n",
       "      <td>NORMAL</td>\n",
       "      <td>HIGH</td>\n",
       "      <td>0.549945</td>\n",
       "      <td>0.055581</td>\n",
       "      <td>drugX</td>\n",
       "    </tr>\n",
       "    <tr>\n",
       "      <th>198</th>\n",
       "      <td>23</td>\n",
       "      <td>M</td>\n",
       "      <td>NORMAL</td>\n",
       "      <td>NORMAL</td>\n",
       "      <td>0.784520</td>\n",
       "      <td>0.055959</td>\n",
       "      <td>drugX</td>\n",
       "    </tr>\n",
       "    <tr>\n",
       "      <th>199</th>\n",
       "      <td>40</td>\n",
       "      <td>F</td>\n",
       "      <td>LOW</td>\n",
       "      <td>NORMAL</td>\n",
       "      <td>0.683503</td>\n",
       "      <td>0.060226</td>\n",
       "      <td>drugX</td>\n",
       "    </tr>\n",
       "  </tbody>\n",
       "</table>\n",
       "</div>"
      ],
      "text/plain": [
       "     Age Sex      BP Cholesterol        Na         K   Drug\n",
       "195   56   F     LOW        HIGH  0.848774  0.073380  drugC\n",
       "196   16   M     LOW        HIGH  0.743021  0.061886  drugC\n",
       "197   52   M  NORMAL        HIGH  0.549945  0.055581  drugX\n",
       "198   23   M  NORMAL      NORMAL  0.784520  0.055959  drugX\n",
       "199   40   F     LOW      NORMAL  0.683503  0.060226  drugX"
      ]
     },
     "execution_count": 6,
     "metadata": {},
     "output_type": "execute_result"
    }
   ],
   "source": [
    "df.tail(5)"
   ]
  },
  {
   "cell_type": "code",
   "execution_count": 7,
   "id": "dce4e4cb-21cc-4762-8a63-e5ccac18fa32",
   "metadata": {},
   "outputs": [],
   "source": [
    "# import library\n",
    "import numpy as np\n",
    "import matplotlib.pyplot as plt \n",
    "import seaborn as sns"
   ]
  },
  {
   "cell_type": "code",
   "execution_count": 8,
   "id": "9a6a90d2-5439-41d5-9fdc-6ed98da279bd",
   "metadata": {},
   "outputs": [
    {
     "data": {
      "text/plain": [
       "Age              int64\n",
       "Sex             object\n",
       "BP              object\n",
       "Cholesterol     object\n",
       "Na             float64\n",
       "K              float64\n",
       "Drug            object\n",
       "dtype: object"
      ]
     },
     "execution_count": 8,
     "metadata": {},
     "output_type": "execute_result"
    }
   ],
   "source": [
    "#Cek tipe data\n",
    "df.dtypes"
   ]
  },
  {
   "cell_type": "code",
   "execution_count": 9,
   "id": "c4bf94d5-bf90-4cdc-b0c6-018785d9f7fa",
   "metadata": {},
   "outputs": [
    {
     "data": {
      "text/html": [
       "<div>\n",
       "<style scoped>\n",
       "    .dataframe tbody tr th:only-of-type {\n",
       "        vertical-align: middle;\n",
       "    }\n",
       "\n",
       "    .dataframe tbody tr th {\n",
       "        vertical-align: top;\n",
       "    }\n",
       "\n",
       "    .dataframe thead th {\n",
       "        text-align: right;\n",
       "    }\n",
       "</style>\n",
       "<table border=\"1\" class=\"dataframe\">\n",
       "  <thead>\n",
       "    <tr style=\"text-align: right;\">\n",
       "      <th></th>\n",
       "      <th>Age</th>\n",
       "      <th>Na</th>\n",
       "      <th>K</th>\n",
       "    </tr>\n",
       "  </thead>\n",
       "  <tbody>\n",
       "    <tr>\n",
       "      <th>count</th>\n",
       "      <td>200.000000</td>\n",
       "      <td>200.000000</td>\n",
       "      <td>200.000000</td>\n",
       "    </tr>\n",
       "    <tr>\n",
       "      <th>mean</th>\n",
       "      <td>44.315000</td>\n",
       "      <td>0.697095</td>\n",
       "      <td>0.050174</td>\n",
       "    </tr>\n",
       "    <tr>\n",
       "      <th>std</th>\n",
       "      <td>16.544315</td>\n",
       "      <td>0.118907</td>\n",
       "      <td>0.017611</td>\n",
       "    </tr>\n",
       "    <tr>\n",
       "      <th>min</th>\n",
       "      <td>15.000000</td>\n",
       "      <td>0.500169</td>\n",
       "      <td>0.020022</td>\n",
       "    </tr>\n",
       "    <tr>\n",
       "      <th>25%</th>\n",
       "      <td>31.000000</td>\n",
       "      <td>0.583887</td>\n",
       "      <td>0.035054</td>\n",
       "    </tr>\n",
       "    <tr>\n",
       "      <th>50%</th>\n",
       "      <td>45.000000</td>\n",
       "      <td>0.721853</td>\n",
       "      <td>0.049663</td>\n",
       "    </tr>\n",
       "    <tr>\n",
       "      <th>75%</th>\n",
       "      <td>58.000000</td>\n",
       "      <td>0.801494</td>\n",
       "      <td>0.066000</td>\n",
       "    </tr>\n",
       "    <tr>\n",
       "      <th>max</th>\n",
       "      <td>74.000000</td>\n",
       "      <td>0.896056</td>\n",
       "      <td>0.079788</td>\n",
       "    </tr>\n",
       "  </tbody>\n",
       "</table>\n",
       "</div>"
      ],
      "text/plain": [
       "              Age          Na           K\n",
       "count  200.000000  200.000000  200.000000\n",
       "mean    44.315000    0.697095    0.050174\n",
       "std     16.544315    0.118907    0.017611\n",
       "min     15.000000    0.500169    0.020022\n",
       "25%     31.000000    0.583887    0.035054\n",
       "50%     45.000000    0.721853    0.049663\n",
       "75%     58.000000    0.801494    0.066000\n",
       "max     74.000000    0.896056    0.079788"
      ]
     },
     "execution_count": 9,
     "metadata": {},
     "output_type": "execute_result"
    }
   ],
   "source": [
    "#statistik dasar\n",
    "df.describe()"
   ]
  },
  {
   "cell_type": "code",
   "execution_count": 12,
   "id": "f75b49d8-34fd-4532-ada5-24bc96f8d6b1",
   "metadata": {},
   "outputs": [],
   "source": [
    "#Menggunakan batas_atas dan batas_bawah\n",
    "q1 = df.select_dtypes(exclude=['object']).quantile(0.25)\n",
    "q3 = df.select_dtypes(exclude=['object']).quantile(0.75)"
   ]
  },
  {
   "cell_type": "code",
   "execution_count": 18,
   "id": "e1ad5f54-e8c6-4da4-9726-401c33a0e257",
   "metadata": {},
   "outputs": [],
   "source": [
    "outlier_filter = (df.select_dtypes(exclude=['object']) < batas_bawah) | (df.select_dtypes(exclude=['object']) > batas_atas)"
   ]
  },
  {
   "cell_type": "code",
   "execution_count": 21,
   "id": "3dc7ab35-bbaf-49ff-a5e4-ecec28a196c2",
   "metadata": {},
   "outputs": [
    {
     "data": {
      "text/plain": [
       "Age    27.000000\n",
       "Na      0.217607\n",
       "K       0.030947\n",
       "dtype: float64"
      ]
     },
     "execution_count": 21,
     "metadata": {},
     "output_type": "execute_result"
    }
   ],
   "source": [
    "q1 = df.select_dtypes(exclude=\"object\").quantile(0.25)\n",
    "q3 = df.select_dtypes(exclude=\"object\").quantile(0.75)\n",
    "iqr = q3-q1\n",
    "iqr"
   ]
  },
  {
   "cell_type": "code",
   "execution_count": 22,
   "id": "ef0fd5f1-04f7-4c1e-8202-2ce9a7e206d8",
   "metadata": {},
   "outputs": [
    {
     "data": {
      "text/plain": [
       "Age    98.500000\n",
       "Na      1.127905\n",
       "K       0.112420\n",
       "dtype: float64"
      ]
     },
     "execution_count": 22,
     "metadata": {},
     "output_type": "execute_result"
    }
   ],
   "source": [
    "batas_atas = q3 + 1.5 * iqr\n",
    "batas_atas"
   ]
  },
  {
   "cell_type": "code",
   "execution_count": 23,
   "id": "3f0e020f-80fc-49a9-bf58-96ab7e87a42b",
   "metadata": {},
   "outputs": [
    {
     "name": "stdout",
     "output_type": "stream",
     "text": [
      "<class 'pandas.core.frame.DataFrame'>\n",
      "RangeIndex: 200 entries, 0 to 199\n",
      "Data columns (total 7 columns):\n",
      " #   Column       Non-Null Count  Dtype  \n",
      "---  ------       --------------  -----  \n",
      " 0   Age          200 non-null    int64  \n",
      " 1   Sex          200 non-null    object \n",
      " 2   BP           200 non-null    object \n",
      " 3   Cholesterol  200 non-null    object \n",
      " 4   Na           200 non-null    float64\n",
      " 5   K            200 non-null    float64\n",
      " 6   Drug         200 non-null    object \n",
      "dtypes: float64(2), int64(1), object(4)\n",
      "memory usage: 11.1+ KB\n"
     ]
    }
   ],
   "source": [
    "# Cek Missing Values\n",
    "df.info()"
   ]
  },
  {
   "cell_type": "code",
   "execution_count": 24,
   "id": "7c42f85a-33ea-446f-bb33-70ff148402f8",
   "metadata": {},
   "outputs": [
    {
     "data": {
      "text/plain": [
       "Age            0\n",
       "Sex            0\n",
       "BP             0\n",
       "Cholesterol    0\n",
       "Na             0\n",
       "K              0\n",
       "Drug           0\n",
       "dtype: int64"
      ]
     },
     "execution_count": 24,
     "metadata": {},
     "output_type": "execute_result"
    }
   ],
   "source": [
    "# Missing values (Menghasilkan DataFrame dengan nilai boolean, di mana setiap elemen adalah True jika nilai pada posisi tersebut adalah null (kosong), dan False jika ada nilai)\n",
    "df.isnull().sum()"
   ]
  },
  {
   "cell_type": "code",
   "execution_count": 25,
   "id": "5905b9a0-46cf-44e6-b148-d0c712e67627",
   "metadata": {},
   "outputs": [],
   "source": [
    "# Fitur Selection\n",
    "X= df.iloc[:, [3,4]].values"
   ]
  },
  {
   "cell_type": "code",
   "execution_count": 27,
   "id": "1ad2b852-f16f-4b1c-8529-b4c2081371f9",
   "metadata": {},
   "outputs": [],
   "source": [
    "#Model K-means\n",
    "X = df.select_dtypes(exclude=['object']).values"
   ]
  },
  {
   "cell_type": "code",
   "execution_count": 28,
   "id": "49299ddc-fbb6-4900-8c4c-b999007f64e9",
   "metadata": {},
   "outputs": [],
   "source": [
    "#Diasumsikan bahwa jumlah maksimal cluster yang mungkin ada dalam dataset adalah 10\n",
    "for i in range(1, 11):\n",
    "    kmeans = KMeans(n_clusters=i, init='k-means++', random_state=0)\n",
    "    kmeans.fit(X)\n",
    "    wcss.append(kmeans.inertia_)"
   ]
  },
  {
   "cell_type": "code",
   "execution_count": 29,
   "id": "b725ea90-f841-4b37-8f65-d34b5844ce08",
   "metadata": {},
   "outputs": [],
   "source": [
    "#Visualisasi\n",
    "import seaborn as sns\n",
    "import matplotlib.pyplot as plt"
   ]
  },
  {
   "cell_type": "code",
   "execution_count": 30,
   "id": "a250f7f9-2faf-4f9a-a9e8-bf970ac1c6a5",
   "metadata": {},
   "outputs": [
    {
     "data": {
      "image/png": "[encoded data removed]",
      "text/plain": [
       "<Figure size 2000x200 with 1 Axes>"
      ]
     },
     "metadata": {},
     "output_type": "display_data"
    },
    {
     "data": {
      "image/png": "[encoded data removed]",
      "text/plain": [
       "<Figure size 2000x200 with 1 Axes>"
      ]
     },
     "metadata": {},
     "output_type": "display_data"
    },
    {
     "data": {
      "image/png": "[encoded data removed]",
      "text/plain": [
       "<Figure size 2000x200 with 1 Axes>"
      ]
     },
     "metadata": {},
     "output_type": "display_data"
    }
   ],
   "source": [
    "# Mencari Outliers - Boxplot\n",
    "df_outlier = df.select_dtypes(exclude=['object'])\n",
    "for column in df_outlier:\n",
    "        plt.figure(figsize=(20,2))\n",
    "        sns.boxplot(data=df_outlier, x=column)"
   ]
  },
  {
   "cell_type": "code",
   "execution_count": 31,
   "id": "7e92adb3-3d48-4a08-bdd5-389cf45be1d8",
   "metadata": {},
   "outputs": [
    {
     "data": {
      "image/png": "[encoded data removed]",
      "text/plain": [
       "<Figure size 640x480 with 1 Axes>"
      ]
     },
     "metadata": {},
     "output_type": "display_data"
    }
   ],
   "source": [
    "# Visualisasi ELBOW\n",
    "plt.plot(range(1,11), wcss)\n",
    "plt.title('The Elbow Method')\n",
    "plt.xlabel('no of clusters')\n",
    "plt.ylabel('wcss')\n",
    "plt.show()"
   ]
  },
  {
   "cell_type": "code",
   "execution_count": 32,
   "id": "b362ce51-312d-4dd2-a7c5-5b29e4c585ad",
   "metadata": {},
   "outputs": [],
   "source": [
    "# Pada plot ini, akan ada titik di mana kurva mulai menurun dengan lebih lambat, \n",
    "# membentuk sudut (mirip seperti siku atau \"elbow\"). Sudut terakhir dari kurva ini muncul ketika k=5, \n",
    "# yang menunjukkan bahwa 5 adalah jumlah optimal cluster.\n",
    "\n",
    "# Model Build\n",
    "kmeansmodel = KMeans(n_clusters= 5, init='k-means++', random_state=0)\n",
    "y_kmeans= kmeansmodel.fit_predict(X)"
   ]
  },
  {
   "cell_type": "code",
   "execution_count": 33,
   "id": "03b44a67-3779-4a75-a88f-8b98bb0b6b77",
   "metadata": {},
   "outputs": [
    {
     "data": {
      "image/png": "[encoded data removed]",
      "text/plain": [
       "<Figure size 640x480 with 1 Axes>"
      ]
     },
     "metadata": {},
     "output_type": "display_data"
    }
   ],
   "source": [
    "# Visualiasi semua clusters \n",
    "\n",
    "plt.scatter(X[y_kmeans == 0, 0], X[y_kmeans == 0, 1], s = 100, c = 'red', label = 'Cluster 1')\n",
    "plt.scatter(X[y_kmeans == 1, 0], X[y_kmeans == 1, 1], s = 100, c = 'blue', label = 'Cluster 2')\n",
    "plt.scatter(X[y_kmeans == 2, 0], X[y_kmeans == 2, 1], s = 100, c = 'green', label = 'Cluster 3')\n",
    "plt.scatter(X[y_kmeans == 3, 0], X[y_kmeans == 3, 1], s = 100, c = 'cyan', label = 'Cluster 4')\n",
    "plt.scatter(X[y_kmeans == 4, 0], X[y_kmeans == 4, 1], s = 100, c = 'magenta', label = 'Cluster 5')\n",
    "plt.scatter(kmeans.cluster_centers_[:, 0], kmeans.cluster_centers_[:, 1], s = 300, c = 'yellow', label = 'Centroids')\n",
    "plt.title('Clusters of customers')\n",
    "plt.xlabel('Annual Income (k$)')\n",
    "plt.ylabel('Spending Score (1-100)')\n",
    "plt.legend()\n",
    "plt.show()"
   ]
  }
 ],
 "metadata": {
  "kernelspec": {
   "display_name": "Python 3 (ipykernel)",
   "language": "python",
   "name": "python3"
  },
  "language_info": {
   "codemirror_mode": {
    "name": "ipython",
    "version": 3
   },
   "file_extension": ".py",
   "mimetype": "text/x-python",
   "name": "python",
   "nbconvert_exporter": "python",
   "pygments_lexer": "ipython3",
   "version": "3.10.12"
  }
 },
 "nbformat": 4,
 "nbformat_minor": 5
}
